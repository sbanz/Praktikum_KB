{
 "cells": [
  {
   "cell_type": "code",
   "execution_count": 1,
   "id": "8cb266a9-2e21-4160-9f12-33dd9ca1850f",
   "metadata": {},
   "outputs": [
    {
     "name": "stdout",
     "output_type": "stream",
     "text": [
      "<class 'pandas.core.frame.DataFrame'>\n",
      "RangeIndex: 9664 entries, 0 to 9663\n",
      "Data columns (total 11 columns):\n",
      " #   Column    Non-Null Count  Dtype  \n",
      "---  ------    --------------  -----  \n",
      " 0   Div       9664 non-null   object \n",
      " 1   Date      9664 non-null   object \n",
      " 2   HomeTeam  9664 non-null   object \n",
      " 3   AwayTeam  9664 non-null   object \n",
      " 4   FTHG      9664 non-null   int64  \n",
      " 5   FTAG      9664 non-null   int64  \n",
      " 6   FTR       9664 non-null   object \n",
      " 7   HTHG      8740 non-null   float64\n",
      " 8   HTAG      8740 non-null   float64\n",
      " 9   HTR       8740 non-null   object \n",
      " 10  Season    9664 non-null   object \n",
      "dtypes: float64(2), int64(2), object(7)\n",
      "memory usage: 830.6+ KB\n"
     ]
    }
   ],
   "source": [
    "import pandas as pd\n",
    "import numpy as np\n",
    "\n",
    "df_start = pd.read_csv(\"EPL_Set.csv\")\n",
    "\n",
    "df_start.info()"
   ]
  },
  {
   "cell_type": "code",
   "execution_count": 2,
   "id": "e71c1c96-671e-4526-96ee-bc3f90dc3970",
   "metadata": {},
   "outputs": [
    {
     "data": {
      "text/plain": [
       "(9664, 11)"
      ]
     },
     "execution_count": 2,
     "metadata": {},
     "output_type": "execute_result"
    }
   ],
   "source": [
    "df_start.shape"
   ]
  },
  {
   "cell_type": "code",
   "execution_count": 3,
   "id": "e0d5883e-b9ba-4134-be75-73e0aeb59444",
   "metadata": {},
   "outputs": [
    {
     "data": {
      "text/html": [
       "<div>\n",
       "<style scoped>\n",
       "    .dataframe tbody tr th:only-of-type {\n",
       "        vertical-align: middle;\n",
       "    }\n",
       "\n",
       "    .dataframe tbody tr th {\n",
       "        vertical-align: top;\n",
       "    }\n",
       "\n",
       "    .dataframe thead th {\n",
       "        text-align: right;\n",
       "    }\n",
       "</style>\n",
       "<table border=\"1\" class=\"dataframe\">\n",
       "  <thead>\n",
       "    <tr style=\"text-align: right;\">\n",
       "      <th></th>\n",
       "      <th>Div</th>\n",
       "      <th>Date</th>\n",
       "      <th>HomeTeam</th>\n",
       "      <th>AwayTeam</th>\n",
       "      <th>FTHG</th>\n",
       "      <th>FTAG</th>\n",
       "      <th>FTR</th>\n",
       "      <th>HTHG</th>\n",
       "      <th>HTAG</th>\n",
       "      <th>HTR</th>\n",
       "      <th>Season</th>\n",
       "    </tr>\n",
       "  </thead>\n",
       "  <tbody>\n",
       "    <tr>\n",
       "      <th>9659</th>\n",
       "      <td>E0</td>\n",
       "      <td>13/05/18</td>\n",
       "      <td>Newcastle</td>\n",
       "      <td>Chelsea</td>\n",
       "      <td>3</td>\n",
       "      <td>0</td>\n",
       "      <td>H</td>\n",
       "      <td>1.0</td>\n",
       "      <td>0.0</td>\n",
       "      <td>H</td>\n",
       "      <td>2017-18</td>\n",
       "    </tr>\n",
       "    <tr>\n",
       "      <th>9660</th>\n",
       "      <td>E0</td>\n",
       "      <td>13/05/18</td>\n",
       "      <td>Southampton</td>\n",
       "      <td>Man City</td>\n",
       "      <td>0</td>\n",
       "      <td>1</td>\n",
       "      <td>A</td>\n",
       "      <td>0.0</td>\n",
       "      <td>0.0</td>\n",
       "      <td>D</td>\n",
       "      <td>2017-18</td>\n",
       "    </tr>\n",
       "    <tr>\n",
       "      <th>9661</th>\n",
       "      <td>E0</td>\n",
       "      <td>13/05/18</td>\n",
       "      <td>Swansea</td>\n",
       "      <td>Stoke</td>\n",
       "      <td>1</td>\n",
       "      <td>2</td>\n",
       "      <td>A</td>\n",
       "      <td>1.0</td>\n",
       "      <td>2.0</td>\n",
       "      <td>A</td>\n",
       "      <td>2017-18</td>\n",
       "    </tr>\n",
       "    <tr>\n",
       "      <th>9662</th>\n",
       "      <td>E0</td>\n",
       "      <td>13/05/18</td>\n",
       "      <td>Tottenham</td>\n",
       "      <td>Leicester</td>\n",
       "      <td>5</td>\n",
       "      <td>4</td>\n",
       "      <td>H</td>\n",
       "      <td>1.0</td>\n",
       "      <td>2.0</td>\n",
       "      <td>A</td>\n",
       "      <td>2017-18</td>\n",
       "    </tr>\n",
       "    <tr>\n",
       "      <th>9663</th>\n",
       "      <td>E0</td>\n",
       "      <td>13/05/18</td>\n",
       "      <td>West Ham</td>\n",
       "      <td>Everton</td>\n",
       "      <td>3</td>\n",
       "      <td>1</td>\n",
       "      <td>H</td>\n",
       "      <td>1.0</td>\n",
       "      <td>0.0</td>\n",
       "      <td>H</td>\n",
       "      <td>2017-18</td>\n",
       "    </tr>\n",
       "  </tbody>\n",
       "</table>\n",
       "</div>"
      ],
      "text/plain": [
       "     Div      Date     HomeTeam   AwayTeam  FTHG  FTAG FTR  HTHG  HTAG HTR  \\\n",
       "9659  E0  13/05/18    Newcastle    Chelsea     3     0   H   1.0   0.0   H   \n",
       "9660  E0  13/05/18  Southampton   Man City     0     1   A   0.0   0.0   D   \n",
       "9661  E0  13/05/18      Swansea      Stoke     1     2   A   1.0   2.0   A   \n",
       "9662  E0  13/05/18    Tottenham  Leicester     5     4   H   1.0   2.0   A   \n",
       "9663  E0  13/05/18     West Ham    Everton     3     1   H   1.0   0.0   H   \n",
       "\n",
       "       Season  \n",
       "9659  2017-18  \n",
       "9660  2017-18  \n",
       "9661  2017-18  \n",
       "9662  2017-18  \n",
       "9663  2017-18  "
      ]
     },
     "execution_count": 3,
     "metadata": {},
     "output_type": "execute_result"
    }
   ],
   "source": [
    "df_start.tail()"
   ]
  },
  {
   "cell_type": "markdown",
   "id": "b2fcc511-ce65-445e-97c8-552fd0f81611",
   "metadata": {},
   "source": [
    "# DATA SPLITTING"
   ]
  },
  {
   "cell_type": "code",
   "execution_count": 4,
   "id": "99612efb-9d14-4fd7-9f5b-69d69a9daac8",
   "metadata": {},
   "outputs": [
    {
     "name": "stdout",
     "output_type": "stream",
     "text": [
      "Dimensi X_train (6764, 10)\n",
      "Dimensi X_test (2900, 10)\n",
      "Dimensi y_train (6764,)\n",
      "Dimensi y_test (2900,)\n"
     ]
    }
   ],
   "source": [
    "from sklearn.model_selection import train_test_split\n",
    "\n",
    "X = df_start.iloc[:, : -1]\n",
    "y = df_start.iloc[:, -1]\n",
    "\n",
    "X_train, X_test, y_train, y_test = train_test_split(X, y, test_size=0.3)\n",
    "\n",
    "print(\"Dimensi X_train\", X_train.shape)\n",
    "print(\"Dimensi X_test\", X_test.shape)\n",
    "print(\"Dimensi y_train\", y_train.shape)\n",
    "print(\"Dimensi y_test\", y_test.shape)"
   ]
  },
  {
   "cell_type": "markdown",
   "id": "a6a39b03-7f0e-4621-9459-5e996c98365e",
   "metadata": {},
   "source": [
    "# DATA TRANSFORMING"
   ]
  },
  {
   "cell_type": "markdown",
   "id": "be64fdc8-3305-443f-af74-71c1b8c4883d",
   "metadata": {},
   "source": [
    "## NORMALISASI"
   ]
  },
  {
   "cell_type": "code",
   "execution_count": 5,
   "id": "4b982874-1744-47b8-b817-45baf43803c1",
   "metadata": {},
   "outputs": [
    {
     "data": {
      "text/html": [
       "<div>\n",
       "<style scoped>\n",
       "    .dataframe tbody tr th:only-of-type {\n",
       "        vertical-align: middle;\n",
       "    }\n",
       "\n",
       "    .dataframe tbody tr th {\n",
       "        vertical-align: top;\n",
       "    }\n",
       "\n",
       "    .dataframe thead th {\n",
       "        text-align: right;\n",
       "    }\n",
       "</style>\n",
       "<table border=\"1\" class=\"dataframe\">\n",
       "  <thead>\n",
       "    <tr style=\"text-align: right;\">\n",
       "      <th></th>\n",
       "      <th>FTHG</th>\n",
       "      <th>FTHG_Normalisasi</th>\n",
       "    </tr>\n",
       "  </thead>\n",
       "  <tbody>\n",
       "    <tr>\n",
       "      <th>9659</th>\n",
       "      <td>3</td>\n",
       "      <td>0.333333</td>\n",
       "    </tr>\n",
       "    <tr>\n",
       "      <th>9660</th>\n",
       "      <td>0</td>\n",
       "      <td>0.000000</td>\n",
       "    </tr>\n",
       "    <tr>\n",
       "      <th>9661</th>\n",
       "      <td>1</td>\n",
       "      <td>0.111111</td>\n",
       "    </tr>\n",
       "    <tr>\n",
       "      <th>9662</th>\n",
       "      <td>5</td>\n",
       "      <td>0.555556</td>\n",
       "    </tr>\n",
       "    <tr>\n",
       "      <th>9663</th>\n",
       "      <td>3</td>\n",
       "      <td>0.333333</td>\n",
       "    </tr>\n",
       "  </tbody>\n",
       "</table>\n",
       "</div>"
      ],
      "text/plain": [
       "      FTHG  FTHG_Normalisasi\n",
       "9659     3          0.333333\n",
       "9660     0          0.000000\n",
       "9661     1          0.111111\n",
       "9662     5          0.555556\n",
       "9663     3          0.333333"
      ]
     },
     "execution_count": 5,
     "metadata": {},
     "output_type": "execute_result"
    }
   ],
   "source": [
    "from sklearn.preprocessing import MinMaxScaler\n",
    "mms = MinMaxScaler()\n",
    "\n",
    "data_normalisasi = df_start[[\"FTHG\"]]\n",
    "data_normalisasi.columns = [\"FTHG\"]\n",
    "\n",
    "normalisasi = mms.fit_transform(data_normalisasi[[\"FTHG\"]])\n",
    "\n",
    "df_normalisasi = pd.DataFrame(normalisasi)\n",
    "df_normalisasi.columns =[\"FTHG_Normalisasi\"]\n",
    "\n",
    "data_normalisasi = data_normalisasi.join(df_normalisasi[\"FTHG_Normalisasi\"]).reset_index()\n",
    "data_normalisasi = data_normalisasi.drop(\"index\", axis=1)\n",
    "\n",
    "data_normalisasi.tail()"
   ]
  },
  {
   "cell_type": "markdown",
   "id": "82af8f47-c71b-4c98-86e6-716119815eef",
   "metadata": {},
   "source": [
    "## STANDARISASI"
   ]
  },
  {
   "cell_type": "code",
   "execution_count": 6,
   "id": "d77aea9e-545b-46a9-817f-9c94082fb5e1",
   "metadata": {},
   "outputs": [
    {
     "name": "stdout",
     "output_type": "stream",
     "text": [
      "Perbandingan sebelum : \n"
     ]
    },
    {
     "data": {
      "text/plain": [
       "FTHG    1.301604\n",
       "FTAG    1.121609\n",
       "HTHG    0.833533\n",
       "HTAG    0.710483\n",
       "dtype: float64"
      ]
     },
     "execution_count": 6,
     "metadata": {},
     "output_type": "execute_result"
    }
   ],
   "source": [
    "from sklearn.preprocessing import StandardScaler\n",
    "ss = StandardScaler()\n",
    "\n",
    "df_start2 = df_start.select_dtypes(include='number')\n",
    "\n",
    "std = ss.fit_transform(df_start2)\n",
    "df_std = pd.DataFrame(std)\n",
    "df_std.columns = [\"FTHG_std\", \"FTAG_std\", \"HTHG_std\", \"HTAG_std\"]\n",
    "\n",
    "print(\"Perbandingan sebelum : \")\n",
    "np.std(df_start2)\n"
   ]
  },
  {
   "cell_type": "code",
   "execution_count": 7,
   "id": "533ba43f-d8cc-43e4-8984-5f2fd2b5acca",
   "metadata": {},
   "outputs": [
    {
     "name": "stdout",
     "output_type": "stream",
     "text": [
      "Perbandingan sesudah : \n"
     ]
    },
    {
     "data": {
      "text/plain": [
       "FTHG_std    1.0\n",
       "FTAG_std    1.0\n",
       "HTHG_std    1.0\n",
       "HTAG_std    1.0\n",
       "dtype: float64"
      ]
     },
     "execution_count": 7,
     "metadata": {},
     "output_type": "execute_result"
    }
   ],
   "source": [
    "print(\"Perbandingan sesudah : \")\n",
    "np.std(df_std)"
   ]
  },
  {
   "cell_type": "markdown",
   "id": "aaf78341-4aac-4fdc-b3d1-6c5994c9c4f3",
   "metadata": {},
   "source": [
    "# DATA CLEANING\n",
    "## MENANGANI DATA NULL"
   ]
  },
  {
   "cell_type": "code",
   "execution_count": 8,
   "id": "753fa371-c117-4b22-a77e-121b4f7d7ccf",
   "metadata": {},
   "outputs": [
    {
     "data": {
      "text/plain": [
       "Div           0\n",
       "Date          0\n",
       "HomeTeam      0\n",
       "AwayTeam      0\n",
       "FTHG          0\n",
       "FTAG          0\n",
       "FTR           0\n",
       "HTHG        924\n",
       "HTAG        924\n",
       "HTR         924\n",
       "Season        0\n",
       "dtype: int64"
      ]
     },
     "execution_count": 8,
     "metadata": {},
     "output_type": "execute_result"
    }
   ],
   "source": [
    "df_start = pd.read_csv(\"EPL_Set.csv\")\n",
    "\n",
    "df_start.isna().sum()"
   ]
  },
  {
   "cell_type": "markdown",
   "id": "6cbff43b-67c1-4fe5-b128-bd017d2c2562",
   "metadata": {},
   "source": [
    "### Substitusi nilai NULL"
   ]
  },
  {
   "cell_type": "code",
   "execution_count": 9,
   "id": "c1a2411f-d216-4aaf-b71b-050b57cf4e6b",
   "metadata": {},
   "outputs": [
    {
     "data": {
      "text/plain": [
       "Div           0\n",
       "Date          0\n",
       "HomeTeam      0\n",
       "AwayTeam      0\n",
       "FTHG          0\n",
       "FTAG          0\n",
       "FTR           0\n",
       "HTHG          0\n",
       "HTAG        924\n",
       "HTR         924\n",
       "Season        0\n",
       "dtype: int64"
      ]
     },
     "execution_count": 9,
     "metadata": {},
     "output_type": "execute_result"
    }
   ],
   "source": [
    "df_start['HTHG'] = df_start['HTHG'].fillna(df_start['HTHG'].median())\n",
    "\n",
    "df_start.isna().sum()"
   ]
  },
  {
   "cell_type": "code",
   "execution_count": 10,
   "id": "3b389c9e-f011-4692-bcc6-947f4511e55d",
   "metadata": {},
   "outputs": [
    {
     "data": {
      "text/plain": [
       "Div         0\n",
       "Date        0\n",
       "HomeTeam    0\n",
       "AwayTeam    0\n",
       "FTHG        0\n",
       "FTAG        0\n",
       "FTR         0\n",
       "HTHG        0\n",
       "HTAG        0\n",
       "HTR         0\n",
       "Season      0\n",
       "dtype: int64"
      ]
     },
     "execution_count": 10,
     "metadata": {},
     "output_type": "execute_result"
    }
   ],
   "source": [
    "from sklearn.impute import SimpleImputer\n",
    "imputer_mean = SimpleImputer(strategy=\"mean\")\n",
    "imputer_modus = SimpleImputer(strategy=\"most_frequent\")\n",
    "\n",
    "df_start['HTAG'] = imputer_mean.fit_transform(df_start[['HTAG']])\n",
    "df_start['HTR'] = imputer_modus.fit_transform(df_start[['HTR']])\n",
    "\n",
    "df_start.isna().sum()"
   ]
  },
  {
   "cell_type": "markdown",
   "id": "1c2f083e-4d49-40c2-916c-e45fc2d95281",
   "metadata": {},
   "source": [
    "## MENANGANI NILAI DUPLIKAT"
   ]
  },
  {
   "cell_type": "code",
   "execution_count": 11,
   "id": "cfeb9df0-a1d3-497a-a125-03e9cd76a3a8",
   "metadata": {},
   "outputs": [
    {
     "name": "stdout",
     "output_type": "stream",
     "text": [
      "Jumlah Data Duplikat : \n"
     ]
    },
    {
     "data": {
      "text/plain": [
       "0"
      ]
     },
     "execution_count": 11,
     "metadata": {},
     "output_type": "execute_result"
    }
   ],
   "source": [
    "df_start[df_start.duplicated()]\n",
    "\n",
    "print(\"Jumlah Data Duplikat : \")\n",
    "df_start.duplicated().sum()"
   ]
  },
  {
   "cell_type": "markdown",
   "id": "2ba2b212-5631-461a-b9aa-a2c9a7a911cd",
   "metadata": {},
   "source": [
    "### Karena tidak terdapat data duplikat kita akan membuatnya"
   ]
  },
  {
   "cell_type": "code",
   "execution_count": 12,
   "id": "1808f3ed-0535-44c9-8b19-6e296a81ebd5",
   "metadata": {},
   "outputs": [
    {
     "data": {
      "text/plain": [
       "0        False\n",
       "1        False\n",
       "2        False\n",
       "3        False\n",
       "4        False\n",
       "         ...  \n",
       "19323     True\n",
       "19324     True\n",
       "19325     True\n",
       "19326     True\n",
       "19327     True\n",
       "Length: 19328, dtype: bool"
      ]
     },
     "execution_count": 12,
     "metadata": {},
     "output_type": "execute_result"
    }
   ],
   "source": [
    "df_duplikat = pd.concat([df_start]*2, ignore_index=True)\n",
    "df_duplikat.duplicated()"
   ]
  },
  {
   "cell_type": "code",
   "execution_count": 13,
   "id": "8446c5fc-ca06-44a5-a684-bff7894f8717",
   "metadata": {},
   "outputs": [
    {
     "name": "stdout",
     "output_type": "stream",
     "text": [
      "Jumlah Data Duplikat : \n"
     ]
    },
    {
     "data": {
      "text/plain": [
       "9664"
      ]
     },
     "execution_count": 13,
     "metadata": {},
     "output_type": "execute_result"
    }
   ],
   "source": [
    "print(\"Jumlah Data Duplikat : \")\n",
    "df_duplikat.duplicated().sum()"
   ]
  },
  {
   "cell_type": "code",
   "execution_count": 14,
   "id": "5b7f4ea5-9d9b-488b-a397-cf885bf61bd7",
   "metadata": {},
   "outputs": [
    {
     "name": "stdout",
     "output_type": "stream",
     "text": [
      "Jumlah Data Duplikat : \n"
     ]
    },
    {
     "data": {
      "text/plain": [
       "0"
      ]
     },
     "execution_count": 14,
     "metadata": {},
     "output_type": "execute_result"
    }
   ],
   "source": [
    "df_duplikat.drop_duplicates(inplace=True)\n",
    "\n",
    "print(\"Jumlah Data Duplikat : \")\n",
    "df_duplikat.duplicated().sum()"
   ]
  },
  {
   "cell_type": "markdown",
   "id": "f94465d7-76ec-4da6-8ef2-39dc42b8cea1",
   "metadata": {},
   "source": [
    "# GANTI TIPE DATA"
   ]
  },
  {
   "cell_type": "code",
   "execution_count": 15,
   "id": "541e8b69-3711-4408-8eda-9df18b001ea7",
   "metadata": {},
   "outputs": [
    {
     "name": "stdout",
     "output_type": "stream",
     "text": [
      "Sebelum :  int64\n",
      "Sesudah :  float64\n"
     ]
    }
   ],
   "source": [
    "print(\"Sebelum : \", df_start[\"FTHG\"].dtypes)\n",
    "df_ubah = df_start[[\"FTHG\"]].astype(float)\n",
    "print(\"Sesudah : \", df_ubah[\"FTHG\"].dtypes)"
   ]
  },
  {
   "cell_type": "markdown",
   "id": "77faccf6-f075-4397-8625-fdded36145e1",
   "metadata": {},
   "source": [
    "# ONE-HOT ENCODING"
   ]
  },
  {
   "cell_type": "code",
   "execution_count": 16,
   "id": "f991a6a8-53d1-4198-a2de-5816fc7d156d",
   "metadata": {},
   "outputs": [
    {
     "data": {
      "text/html": [
       "<div>\n",
       "<style scoped>\n",
       "    .dataframe tbody tr th:only-of-type {\n",
       "        vertical-align: middle;\n",
       "    }\n",
       "\n",
       "    .dataframe tbody tr th {\n",
       "        vertical-align: top;\n",
       "    }\n",
       "\n",
       "    .dataframe thead th {\n",
       "        text-align: right;\n",
       "    }\n",
       "</style>\n",
       "<table border=\"1\" class=\"dataframe\">\n",
       "  <thead>\n",
       "    <tr style=\"text-align: right;\">\n",
       "      <th></th>\n",
       "      <th>Div</th>\n",
       "      <th>Date</th>\n",
       "      <th>HomeTeam</th>\n",
       "      <th>AwayTeam</th>\n",
       "      <th>FTHG</th>\n",
       "      <th>FTAG</th>\n",
       "      <th>FTR</th>\n",
       "      <th>HTHG</th>\n",
       "      <th>HTAG</th>\n",
       "      <th>HTR</th>\n",
       "      <th>Season</th>\n",
       "      <th>0</th>\n",
       "      <th>1</th>\n",
       "      <th>2</th>\n",
       "    </tr>\n",
       "  </thead>\n",
       "  <tbody>\n",
       "    <tr>\n",
       "      <th>9659</th>\n",
       "      <td>E0</td>\n",
       "      <td>13/05/18</td>\n",
       "      <td>Newcastle</td>\n",
       "      <td>Chelsea</td>\n",
       "      <td>3</td>\n",
       "      <td>0</td>\n",
       "      <td>H</td>\n",
       "      <td>1.0</td>\n",
       "      <td>0.0</td>\n",
       "      <td>H</td>\n",
       "      <td>2017-18</td>\n",
       "      <td>0.0</td>\n",
       "      <td>0.0</td>\n",
       "      <td>1.0</td>\n",
       "    </tr>\n",
       "    <tr>\n",
       "      <th>9660</th>\n",
       "      <td>E0</td>\n",
       "      <td>13/05/18</td>\n",
       "      <td>Southampton</td>\n",
       "      <td>Man City</td>\n",
       "      <td>0</td>\n",
       "      <td>1</td>\n",
       "      <td>A</td>\n",
       "      <td>0.0</td>\n",
       "      <td>0.0</td>\n",
       "      <td>D</td>\n",
       "      <td>2017-18</td>\n",
       "      <td>0.0</td>\n",
       "      <td>1.0</td>\n",
       "      <td>0.0</td>\n",
       "    </tr>\n",
       "    <tr>\n",
       "      <th>9661</th>\n",
       "      <td>E0</td>\n",
       "      <td>13/05/18</td>\n",
       "      <td>Swansea</td>\n",
       "      <td>Stoke</td>\n",
       "      <td>1</td>\n",
       "      <td>2</td>\n",
       "      <td>A</td>\n",
       "      <td>1.0</td>\n",
       "      <td>2.0</td>\n",
       "      <td>A</td>\n",
       "      <td>2017-18</td>\n",
       "      <td>1.0</td>\n",
       "      <td>0.0</td>\n",
       "      <td>0.0</td>\n",
       "    </tr>\n",
       "    <tr>\n",
       "      <th>9662</th>\n",
       "      <td>E0</td>\n",
       "      <td>13/05/18</td>\n",
       "      <td>Tottenham</td>\n",
       "      <td>Leicester</td>\n",
       "      <td>5</td>\n",
       "      <td>4</td>\n",
       "      <td>H</td>\n",
       "      <td>1.0</td>\n",
       "      <td>2.0</td>\n",
       "      <td>A</td>\n",
       "      <td>2017-18</td>\n",
       "      <td>1.0</td>\n",
       "      <td>0.0</td>\n",
       "      <td>0.0</td>\n",
       "    </tr>\n",
       "    <tr>\n",
       "      <th>9663</th>\n",
       "      <td>E0</td>\n",
       "      <td>13/05/18</td>\n",
       "      <td>West Ham</td>\n",
       "      <td>Everton</td>\n",
       "      <td>3</td>\n",
       "      <td>1</td>\n",
       "      <td>H</td>\n",
       "      <td>1.0</td>\n",
       "      <td>0.0</td>\n",
       "      <td>H</td>\n",
       "      <td>2017-18</td>\n",
       "      <td>0.0</td>\n",
       "      <td>0.0</td>\n",
       "      <td>1.0</td>\n",
       "    </tr>\n",
       "  </tbody>\n",
       "</table>\n",
       "</div>"
      ],
      "text/plain": [
       "     Div      Date     HomeTeam   AwayTeam  FTHG  FTAG FTR  HTHG  HTAG HTR  \\\n",
       "9659  E0  13/05/18    Newcastle    Chelsea     3     0   H   1.0   0.0   H   \n",
       "9660  E0  13/05/18  Southampton   Man City     0     1   A   0.0   0.0   D   \n",
       "9661  E0  13/05/18      Swansea      Stoke     1     2   A   1.0   2.0   A   \n",
       "9662  E0  13/05/18    Tottenham  Leicester     5     4   H   1.0   2.0   A   \n",
       "9663  E0  13/05/18     West Ham    Everton     3     1   H   1.0   0.0   H   \n",
       "\n",
       "       Season    0    1    2  \n",
       "9659  2017-18  0.0  0.0  1.0  \n",
       "9660  2017-18  0.0  1.0  0.0  \n",
       "9661  2017-18  1.0  0.0  0.0  \n",
       "9662  2017-18  1.0  0.0  0.0  \n",
       "9663  2017-18  0.0  0.0  1.0  "
      ]
     },
     "execution_count": 16,
     "metadata": {},
     "output_type": "execute_result"
    }
   ],
   "source": [
    "from sklearn.preprocessing import OneHotEncoder\n",
    "oh_encoder = OneHotEncoder(sparse=False)\n",
    "\n",
    "onehot = oh_encoder.fit_transform(df_start[[\"HTR\"]])\n",
    "df_onehot = pd.DataFrame(onehot)\n",
    "df_last = df_start.join(df_onehot)\n",
    "\n",
    "df_last.tail()"
   ]
  },
  {
   "cell_type": "code",
   "execution_count": null,
   "id": "24d846fd-2961-4efd-9ab8-c662611a94db",
   "metadata": {},
   "outputs": [],
   "source": []
  }
 ],
 "metadata": {
  "kernelspec": {
   "display_name": "Python 3 (ipykernel)",
   "language": "python",
   "name": "python3"
  },
  "language_info": {
   "codemirror_mode": {
    "name": "ipython",
    "version": 3
   },
   "file_extension": ".py",
   "mimetype": "text/x-python",
   "name": "python",
   "nbconvert_exporter": "python",
   "pygments_lexer": "ipython3",
   "version": "3.10.7"
  }
 },
 "nbformat": 4,
 "nbformat_minor": 5
}
