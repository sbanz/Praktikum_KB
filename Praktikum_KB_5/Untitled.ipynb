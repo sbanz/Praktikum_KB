{
 "cells": [
  {
   "cell_type": "markdown",
   "id": "7689cb2b-55ac-4c68-9e49-abeea1ec3143",
   "metadata": {},
   "source": [
    "# Reihan Al Sya'Ban\n",
    "# 2109106051"
   ]
  },
  {
   "cell_type": "code",
   "execution_count": 1,
   "id": "c23c6df4-fa5e-402e-b885-856f28ba6032",
   "metadata": {},
   "outputs": [],
   "source": [
    "import pandas as pd\n",
    "import numpy as np"
   ]
  },
  {
   "cell_type": "code",
   "execution_count": 2,
   "id": "cf9fccff-257a-4179-83d8-1d80ea26db89",
   "metadata": {},
   "outputs": [
    {
     "name": "stdout",
     "output_type": "stream",
     "text": [
      "<class 'pandas.core.frame.DataFrame'>\n",
      "RangeIndex: 500 entries, 0 to 499\n",
      "Data columns (total 4 columns):\n",
      " #   Column  Non-Null Count  Dtype \n",
      "---  ------  --------------  ----- \n",
      " 0   Gender  500 non-null    object\n",
      " 1   Height  500 non-null    int64 \n",
      " 2   Weight  500 non-null    int64 \n",
      " 3   Index   500 non-null    int64 \n",
      "dtypes: int64(3), object(1)\n",
      "memory usage: 15.8+ KB\n"
     ]
    }
   ],
   "source": [
    "df = pd.read_csv(\"bmi.csv\")\n",
    "df.info()"
   ]
  },
  {
   "cell_type": "markdown",
   "id": "3d510d12-d47d-4589-8060-b683e596eb0f",
   "metadata": {},
   "source": [
    "## Melakukan Standarisasi pada Dataset"
   ]
  },
  {
   "cell_type": "code",
   "execution_count": 3,
   "id": "97895c02-c6d5-4c27-9811-00289053060b",
   "metadata": {},
   "outputs": [],
   "source": [
    "from sklearn.preprocessing import StandardScaler,OrdinalEncoder\n",
    "\n",
    "std = StandardScaler()\n",
    "df[[\"Height\", \"Weight\"]] = std.fit_transform(df[[\"Height\", \"Weight\"]])\n",
    "\n",
    "enc = OrdinalEncoder()\n",
    "df[[\"Gender\"]] = enc.fit_transform(df[[\"Gender\"]])"
   ]
  },
  {
   "cell_type": "markdown",
   "id": "e2fc354e-2890-4289-b4de-ca0814cfe1fc",
   "metadata": {},
   "source": [
    "## Data Splitting"
   ]
  },
  {
   "cell_type": "code",
   "execution_count": 4,
   "id": "780cff75-0dd8-45b9-b957-3f56d4af808c",
   "metadata": {},
   "outputs": [],
   "source": [
    "from sklearn.model_selection import train_test_split\n",
    "\n",
    "x = df[[\"Gender\", \"Height\", \"Weight\"]]\n",
    "y = df[\"Index\"]\n",
    "\n",
    "x_train, x_test, y_train, y_test = train_test_split(x, y, test_size=0.2, random_state=0)"
   ]
  },
  {
   "cell_type": "markdown",
   "id": "93b5d421-bf02-46a4-ab25-22683fa47bb1",
   "metadata": {},
   "source": [
    "## Classification\n",
    "### KNN"
   ]
  },
  {
   "cell_type": "code",
   "execution_count": 5,
   "id": "c506a235-b5db-417d-a212-cd6ed4b6f12a",
   "metadata": {},
   "outputs": [
    {
     "name": "stdout",
     "output_type": "stream",
     "text": [
      "KNN akurasi : 89.0 %\n"
     ]
    }
   ],
   "source": [
    "from sklearn.neighbors import KNeighborsClassifier\n",
    "from sklearn.metrics import accuracy_score\n",
    "\n",
    "knn = KNeighborsClassifier(n_neighbors=5).fit(x_train, y_train)\n",
    "pred_knn = knn.predict(x_test)\n",
    "print(\"KNN akurasi :\", accuracy_score(y_test, pred_knn)*100, \"%\")"
   ]
  },
  {
   "cell_type": "markdown",
   "id": "de06e8f0-3340-40b9-b1a0-fda3e10b9a7f",
   "metadata": {},
   "source": [
    "### Decision Tree"
   ]
  },
  {
   "cell_type": "code",
   "execution_count": 6,
   "id": "03a7e4e7-f5fb-4fcc-8296-7243021def83",
   "metadata": {},
   "outputs": [
    {
     "name": "stdout",
     "output_type": "stream",
     "text": [
      "Decision Tree akurasi :  87.0 %\n"
     ]
    }
   ],
   "source": [
    "from sklearn.tree import DecisionTreeClassifier\n",
    "\n",
    "tree = DecisionTreeClassifier().fit(x_train, y_train)\n",
    "pred_tree = tree.predict(x_test)\n",
    "print(\"Decision Tree akurasi : \", accuracy_score(y_test, pred_tree)*100,\"%\")"
   ]
  },
  {
   "cell_type": "markdown",
   "id": "ed307e1e-20cb-4908-ab2a-e232eaf6ce4f",
   "metadata": {},
   "source": [
    "### Naive Bayes"
   ]
  },
  {
   "cell_type": "code",
   "execution_count": 7,
   "id": "75b9fbe8-e156-41cb-8d60-e9c194d03daf",
   "metadata": {},
   "outputs": [
    {
     "name": "stdout",
     "output_type": "stream",
     "text": [
      "Naive Bayes akurasi :  67.0 %\n"
     ]
    }
   ],
   "source": [
    "from sklearn.naive_bayes import GaussianNB\n",
    "\n",
    "nb = GaussianNB().fit(x_train, y_train)\n",
    "pred_nb = nb.predict(x_test)\n",
    "print(\"Naive Bayes akurasi : \", accuracy_score(y_test, pred_nb)*100,\"%\")"
   ]
  }
 ],
 "metadata": {
  "kernelspec": {
   "display_name": "Python 3 (ipykernel)",
   "language": "python",
   "name": "python3"
  },
  "language_info": {
   "codemirror_mode": {
    "name": "ipython",
    "version": 3
   },
   "file_extension": ".py",
   "mimetype": "text/x-python",
   "name": "python",
   "nbconvert_exporter": "python",
   "pygments_lexer": "ipython3",
   "version": "3.10.7"
  }
 },
 "nbformat": 4,
 "nbformat_minor": 5
}
