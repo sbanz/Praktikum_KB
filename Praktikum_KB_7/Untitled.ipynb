{
 "cells": [
  {
   "cell_type": "markdown",
   "id": "fdf6b6d2-d213-499b-9e0d-cb35900e4561",
   "metadata": {},
   "source": [
    "# Reihan Al Sya'Ban\n",
    "# 2109106051\n",
    "# POSTTEST 7 TENSORFLOW"
   ]
  },
  {
   "cell_type": "markdown",
   "id": "9a9e3922-86e3-4066-8e67-e11ceb9aed0c",
   "metadata": {},
   "source": [
    "## Import Library TensorFlow"
   ]
  },
  {
   "cell_type": "code",
   "execution_count": 1,
   "id": "1eb5f989-9637-4729-86d5-865aa030e3b4",
   "metadata": {},
   "outputs": [],
   "source": [
    "import tensorflow as tf"
   ]
  },
  {
   "cell_type": "markdown",
   "id": "9b4a78f6-73be-4121-b374-333c54f5a3c5",
   "metadata": {},
   "source": [
    "## Membuat variabel random_tensor & prime_tensor"
   ]
  },
  {
   "cell_type": "code",
   "execution_count": 2,
   "id": "6341ed25-582a-4e41-8605-cd8d6f6521d3",
   "metadata": {},
   "outputs": [
    {
     "data": {
      "text/plain": [
       "array([[ 1.1886818 ,  3.4845986 ,  2.0653293 , -0.4427042 ,  2.0992484 ],\n",
       "       [ 2.5912242 ,  2.592823  , -0.12292957,  1.2771027 ,  1.9437296 ],\n",
       "       [ 2.6435447 ,  1.7356759 ,  3.8566332 ,  2.5678418 ,  1.6171641 ],\n",
       "       [ 0.51465666,  3.2617712 ,  1.9746939 ,  1.7353703 ,  3.5328138 ],\n",
       "       [ 0.25702286,  1.5621071 ,  1.43399   ,  2.3206692 ,  3.132831  ]],\n",
       "      dtype=float32)"
      ]
     },
     "execution_count": 2,
     "metadata": {},
     "output_type": "execute_result"
    }
   ],
   "source": [
    "random_tensor = tf.random.normal([5,5], mean = 2, stddev = 1, seed = 1)\n",
    "random_tensor.numpy()"
   ]
  },
  {
   "cell_type": "code",
   "execution_count": 3,
   "id": "b17b49e4-6802-4073-8828-b65986088e75",
   "metadata": {},
   "outputs": [
    {
     "data": {
      "text/plain": [
       "array([[  2.,   3.,   5.,   7.,  11.],\n",
       "       [ 13.,  17.,  19.,  23.,  29.],\n",
       "       [ 31.,  37.,  41.,  43.,  47.],\n",
       "       [ 53.,  59.,  61.,  71.,  73.],\n",
       "       [ 79.,  83.,  89.,  97., 101.]], dtype=float32)"
      ]
     },
     "execution_count": 3,
     "metadata": {},
     "output_type": "execute_result"
    }
   ],
   "source": [
    "prime_tensor = tf.constant([2,3,5,7,11,13,17,19,23,29,31,37,41,43,47,53,59,61,71,73,79,83,89,97,101],shape=(5,5),dtype=tf.float32)\n",
    "prime_tensor.numpy()"
   ]
  },
  {
   "cell_type": "markdown",
   "id": "2bb851a5-682b-4118-b4ae-61bf54a94805",
   "metadata": {},
   "source": [
    "## Dimensi dari random_tensor & prime_tensor"
   ]
  },
  {
   "cell_type": "code",
   "execution_count": 4,
   "id": "fd5a1596-1c18-4e45-9733-d458cf8bee8f",
   "metadata": {},
   "outputs": [
    {
     "name": "stdout",
     "output_type": "stream",
     "text": [
      "random_tensor :  (5, 5)\n",
      "prime_tensor  :  (5, 5)\n"
     ]
    }
   ],
   "source": [
    "print(\"random_tensor : \", random_tensor.shape)\n",
    "print(\"prime_tensor  : \", prime_tensor.shape)"
   ]
  },
  {
   "cell_type": "markdown",
   "id": "09390571-057a-455f-a82a-4725ba226232",
   "metadata": {},
   "source": [
    "## Perhitungan Aritmatika antara random_tensor & prime_tensor"
   ]
  },
  {
   "cell_type": "code",
   "execution_count": 5,
   "id": "971b6e07-5d54-4707-bbf7-ce68f102b5f6",
   "metadata": {},
   "outputs": [
    {
     "name": "stdout",
     "output_type": "stream",
     "text": [
      "Penjumlahan :\n",
      " [[  3.1886818   6.4845986   7.0653296   6.557296   13.099249 ]\n",
      " [ 15.591225   19.592823   18.877071   24.277103   30.94373  ]\n",
      " [ 33.643543   38.735676   44.856632   45.56784    48.617165 ]\n",
      " [ 53.514656   62.261772   62.974693   72.73537    76.532814 ]\n",
      " [ 79.25702    84.5621     90.43399    99.32067   104.13283  ]]\n"
     ]
    }
   ],
   "source": [
    "print(\"Penjumlahan :\\n\", tf.add(random_tensor,prime_tensor).numpy())"
   ]
  },
  {
   "cell_type": "code",
   "execution_count": 6,
   "id": "3ad42789-ffcb-4845-a5da-ed59b3d746de",
   "metadata": {},
   "outputs": [
    {
     "name": "stdout",
     "output_type": "stream",
     "text": [
      "Pengurangan :\n",
      " [[ -0.81131816   0.48459864  -2.9346707   -7.442704    -8.900751  ]\n",
      " [-10.408775   -14.407177   -19.122929   -21.722897   -27.05627   ]\n",
      " [-28.356455   -35.264324   -37.143368   -40.43216    -45.382835  ]\n",
      " [-52.485344   -55.738228   -59.025307   -69.26463    -69.467186  ]\n",
      " [-78.74298    -81.4379     -87.56601    -94.67933    -97.86717   ]]\n"
     ]
    }
   ],
   "source": [
    "print(\"Pengurangan :\\n\", tf.subtract(random_tensor,prime_tensor).numpy())"
   ]
  },
  {
   "cell_type": "code",
   "execution_count": 7,
   "id": "f344d4f4-5a47-435b-973c-725914d320d3",
   "metadata": {},
   "outputs": [
    {
     "name": "stdout",
     "output_type": "stream",
     "text": [
      "Perkalian matriks :\n",
      " [[254.07965 287.33948 316.65744 349.4708  390.906  ]\n",
      " [256.3194  283.9819  308.07486 351.70358 387.46283]\n",
      " [411.25812 465.85983 504.88348 563.44226 611.46136]\n",
      " [475.71478 525.66815 565.7874  629.4294  676.55945]\n",
      " [435.76425 477.32898 510.14154 568.0413  601.3507 ]]\n"
     ]
    }
   ],
   "source": [
    "print(\"Perkalian matriks :\\n\", tf.matmul(random_tensor,prime_tensor).numpy())"
   ]
  },
  {
   "cell_type": "code",
   "execution_count": 8,
   "id": "ddb89300-573f-4616-9191-74a4b141b22b",
   "metadata": {},
   "outputs": [
    {
     "name": "stdout",
     "output_type": "stream",
     "text": [
      "Perkalian :\n",
      " [[  2.3773637  10.453796   10.326647   -3.0989294  23.091732 ]\n",
      " [ 33.685913   44.07799    -2.335662   29.373362   56.36816  ]\n",
      " [ 81.94988    64.22001   158.12196   110.4172     76.006714 ]\n",
      " [ 27.276804  192.4445    120.45633   123.21129   257.89542  ]\n",
      " [ 20.304806  129.65489   127.62511   225.1049    316.41595  ]]\n"
     ]
    }
   ],
   "source": [
    "print(\"Perkalian :\\n\", tf.multiply(random_tensor,prime_tensor).numpy())"
   ]
  },
  {
   "cell_type": "code",
   "execution_count": 9,
   "id": "4a05d98b-b6ae-4643-ad29-45510cfe2eb8",
   "metadata": {},
   "outputs": [
    {
     "name": "stdout",
     "output_type": "stream",
     "text": [
      "Pembagian :\n",
      " [[ 0.5943409   1.1615329   0.41306585 -0.06324346  0.19084077]\n",
      " [ 0.19932494  0.152519   -0.00646998  0.0555262   0.06702516]\n",
      " [ 0.08527564  0.04691016  0.09406422  0.05971725  0.03440775]\n",
      " [ 0.0097105   0.05528426  0.03237203  0.02444183  0.04839471]\n",
      " [ 0.00325345  0.01882057  0.01611225  0.02392443  0.03101813]]\n"
     ]
    }
   ],
   "source": [
    "print(\"Pembagian :\\n\", tf.divide(random_tensor,prime_tensor).numpy())"
   ]
  },
  {
   "cell_type": "code",
   "execution_count": 10,
   "id": "96a1e096-0559-47d4-a811-514fae07aa7d",
   "metadata": {},
   "outputs": [
    {
     "name": "stdout",
     "output_type": "stream",
     "text": [
      "Pangkat :\n",
      " [[ 1.41296446e+00  4.23114853e+01  3.75791130e+01 -3.33269453e-03\n",
      "   3.48900952e+03]\n",
      " [ 2.37446000e+05  1.08177980e+07 -5.05208996e-18  2.77455933e+02\n",
      "   2.34660432e+08]\n",
      " [ 1.22401367e+13  7.25002880e+08  1.08278367e+24  4.08728707e+17\n",
      "   6.47802675e+09]\n",
      " [ 5.13372693e-16  1.96678162e+30  1.06044165e+18  9.92757123e+16\n",
      "              inf]\n",
      " [ 0.00000000e+00  1.19673122e+16  8.56258689e+13  2.91396052e+35\n",
      "              inf]]\n"
     ]
    }
   ],
   "source": [
    "print(\"Pangkat :\\n\", tf.pow(random_tensor,prime_tensor).numpy())"
   ]
  },
  {
   "cell_type": "markdown",
   "id": "1bd2b81f-3b43-4a87-b6c6-f6ec7cd44bf6",
   "metadata": {},
   "source": [
    "## Nilai Maksimal & Minimal dari random_tensor"
   ]
  },
  {
   "cell_type": "code",
   "execution_count": 11,
   "id": "4afe26f3-d10b-42ff-80fd-376a10e8c1e1",
   "metadata": {},
   "outputs": [
    {
     "name": "stdout",
     "output_type": "stream",
     "text": [
      "Maksimal :  3.8566332\n"
     ]
    }
   ],
   "source": [
    "print(\"Maksimal : \", tf.reduce_max(random_tensor).numpy())"
   ]
  },
  {
   "cell_type": "code",
   "execution_count": 12,
   "id": "81b98f3b-efeb-4516-b9b5-4bfc41a4caae",
   "metadata": {},
   "outputs": [
    {
     "name": "stdout",
     "output_type": "stream",
     "text": [
      "Minimal  :  -0.4427042\n"
     ]
    }
   ],
   "source": [
    "print(\"Minimal  : \", tf.reduce_min(random_tensor).numpy())"
   ]
  },
  {
   "cell_type": "markdown",
   "id": "74c53f82-4c97-4161-bc27-59d08b62e9e3",
   "metadata": {},
   "source": [
    "## Penggabungan random_tensor & prime_tensor"
   ]
  },
  {
   "cell_type": "code",
   "execution_count": 17,
   "id": "a00ddd68-71ea-4204-baec-1557f0794b3e",
   "metadata": {},
   "outputs": [
    {
     "data": {
      "text/plain": [
       "array([[  1.1886818 ,   3.4845986 ,   2.0653293 ,  -0.4427042 ,\n",
       "          2.0992484 ,   2.        ,   3.        ,   5.        ,\n",
       "          7.        ,  11.        ],\n",
       "       [  2.5912242 ,   2.592823  ,  -0.12292957,   1.2771027 ,\n",
       "          1.9437296 ,  13.        ,  17.        ,  19.        ,\n",
       "         23.        ,  29.        ],\n",
       "       [  2.6435447 ,   1.7356759 ,   3.8566332 ,   2.5678418 ,\n",
       "          1.6171641 ,  31.        ,  37.        ,  41.        ,\n",
       "         43.        ,  47.        ],\n",
       "       [  0.51465666,   3.2617712 ,   1.9746939 ,   1.7353703 ,\n",
       "          3.5328138 ,  53.        ,  59.        ,  61.        ,\n",
       "         71.        ,  73.        ],\n",
       "       [  0.25702286,   1.5621071 ,   1.43399   ,   2.3206692 ,\n",
       "          3.132831  ,  79.        ,  83.        ,  89.        ,\n",
       "         97.        , 101.        ]], dtype=float32)"
      ]
     },
     "execution_count": 17,
     "metadata": {},
     "output_type": "execute_result"
    }
   ],
   "source": [
    "concat = tf.concat([random_tensor,prime_tensor], axis = 1)\n",
    "concat.numpy()"
   ]
  },
  {
   "cell_type": "markdown",
   "id": "c187fccc-7532-4cdf-8ec4-7191cfccf5d8",
   "metadata": {},
   "source": [
    "## Sorting random_tensor, prime_tensor, dan Gabungan kedua Variabel"
   ]
  },
  {
   "cell_type": "markdown",
   "id": "d12b2949-c9e7-49ae-bb34-d4786234823e",
   "metadata": {},
   "source": [
    "### random_tensor"
   ]
  },
  {
   "cell_type": "code",
   "execution_count": 18,
   "id": "02fc67d8-f7fe-439b-8067-044f9b460166",
   "metadata": {},
   "outputs": [
    {
     "data": {
      "text/plain": [
       "array([[ 3.4845986 ,  2.0992484 ,  2.0653293 ,  1.1886818 , -0.4427042 ],\n",
       "       [ 2.592823  ,  2.5912242 ,  1.9437296 ,  1.2771027 , -0.12292957],\n",
       "       [ 3.8566332 ,  2.6435447 ,  2.5678418 ,  1.7356759 ,  1.6171641 ],\n",
       "       [ 3.5328138 ,  3.2617712 ,  1.9746939 ,  1.7353703 ,  0.51465666],\n",
       "       [ 3.132831  ,  2.3206692 ,  1.5621071 ,  1.43399   ,  0.25702286]],\n",
       "      dtype=float32)"
      ]
     },
     "execution_count": 18,
     "metadata": {},
     "output_type": "execute_result"
    }
   ],
   "source": [
    "sort_random = tf.sort(random_tensor, direction = 'DESCENDING')\n",
    "sort_random.numpy()"
   ]
  },
  {
   "cell_type": "markdown",
   "id": "897e98b6-58b8-46bc-bd20-8421888e684f",
   "metadata": {},
   "source": [
    "### prime_tensor"
   ]
  },
  {
   "cell_type": "code",
   "execution_count": 19,
   "id": "92d55e9d-7a03-4ad1-8256-207dd329c5ed",
   "metadata": {},
   "outputs": [
    {
     "data": {
      "text/plain": [
       "array([[ 11.,   7.,   5.,   3.,   2.],\n",
       "       [ 29.,  23.,  19.,  17.,  13.],\n",
       "       [ 47.,  43.,  41.,  37.,  31.],\n",
       "       [ 73.,  71.,  61.,  59.,  53.],\n",
       "       [101.,  97.,  89.,  83.,  79.]], dtype=float32)"
      ]
     },
     "execution_count": 19,
     "metadata": {},
     "output_type": "execute_result"
    }
   ],
   "source": [
    "sort_prime = tf.sort(prime_tensor, direction = 'DESCENDING')\n",
    "sort_prime.numpy()"
   ]
  },
  {
   "cell_type": "markdown",
   "id": "d3241d2b-7ea3-40b7-9b21-a5d83548f3d5",
   "metadata": {},
   "source": [
    "### Gabungan kedua variabel"
   ]
  },
  {
   "cell_type": "code",
   "execution_count": 20,
   "id": "a8839af3-3119-4a70-b029-23089854be54",
   "metadata": {},
   "outputs": [
    {
     "data": {
      "text/plain": [
       "array([[ 11.        ,   7.        ,   5.        ,   3.4845986 ,\n",
       "          3.        ,   2.0992484 ,   2.0653293 ,   2.        ,\n",
       "          1.1886818 ,  -0.4427042 ],\n",
       "       [ 29.        ,  23.        ,  19.        ,  17.        ,\n",
       "         13.        ,   2.592823  ,   2.5912242 ,   1.9437296 ,\n",
       "          1.2771027 ,  -0.12292957],\n",
       "       [ 47.        ,  43.        ,  41.        ,  37.        ,\n",
       "         31.        ,   3.8566332 ,   2.6435447 ,   2.5678418 ,\n",
       "          1.7356759 ,   1.6171641 ],\n",
       "       [ 73.        ,  71.        ,  61.        ,  59.        ,\n",
       "         53.        ,   3.5328138 ,   3.2617712 ,   1.9746939 ,\n",
       "          1.7353703 ,   0.51465666],\n",
       "       [101.        ,  97.        ,  89.        ,  83.        ,\n",
       "         79.        ,   3.132831  ,   2.3206692 ,   1.5621071 ,\n",
       "          1.43399   ,   0.25702286]], dtype=float32)"
      ]
     },
     "execution_count": 20,
     "metadata": {},
     "output_type": "execute_result"
    }
   ],
   "source": [
    "sort_concat  = tf.sort(concat, direction = 'DESCENDING')\n",
    "sort_concat.numpy()"
   ]
  }
 ],
 "metadata": {
  "kernelspec": {
   "display_name": "Python 3 (ipykernel)",
   "language": "python",
   "name": "python3"
  },
  "language_info": {
   "codemirror_mode": {
    "name": "ipython",
    "version": 3
   },
   "file_extension": ".py",
   "mimetype": "text/x-python",
   "name": "python",
   "nbconvert_exporter": "python",
   "pygments_lexer": "ipython3",
   "version": "3.10.7"
  }
 },
 "nbformat": 4,
 "nbformat_minor": 5
}
