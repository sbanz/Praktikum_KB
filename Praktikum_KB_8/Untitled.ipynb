{
 "cells": [
  {
   "cell_type": "markdown",
   "id": "a4ba3cf4-20ae-495a-9a16-69f39324f229",
   "metadata": {},
   "source": [
    "# Reihan Al Sya'Ban\n",
    "# 2109106051\n",
    "# Posttest 8 Deep Learning"
   ]
  },
  {
   "cell_type": "code",
   "execution_count": 10,
   "id": "95a6f550-fea9-4024-8759-a75a14bdb4db",
   "metadata": {},
   "outputs": [],
   "source": [
    "import matplotlib.pyplot as plt\n",
    "import numpy as np\n",
    "from keras.preprocessing.image import ImageDataGenerator\n",
    "from keras.layers import Dense, Flatten"
   ]
  },
  {
   "cell_type": "code",
   "execution_count": 2,
   "id": "6bfda21c-0132-4bf5-a7c2-e834dc9c912e",
   "metadata": {},
   "outputs": [
    {
     "name": "stdout",
     "output_type": "stream",
     "text": [
      "Found 2148 files belonging to 2 classes.\n",
      "Using 1719 files for training.\n"
     ]
    }
   ],
   "source": [
    "train = keras.preprocessing.image_dataset_from_directory(\"image\",validation_split=0.2,subset=\"training\",image_size=(128,128),batch_size=8,label_mode='categorical', seed=2)"
   ]
  },
  {
   "cell_type": "code",
   "execution_count": 3,
   "id": "14d8e842-7763-4bcf-9702-8d86fd8e8d9c",
   "metadata": {},
   "outputs": [
    {
     "name": "stdout",
     "output_type": "stream",
     "text": [
      "Found 2148 files belonging to 2 classes.\n",
      "Using 429 files for validation.\n"
     ]
    }
   ],
   "source": [
    "test = keras.preprocessing.image_dataset_from_directory(\"image\",validation_split=0.2,subset=\"validation\",image_size=(128,128),batch_size=8,label_mode='categorical', seed=2)"
   ]
  },
  {
   "cell_type": "code",
   "execution_count": 4,
   "id": "4f6169a0-9c6e-4c6c-8da0-33f71808fa7a",
   "metadata": {},
   "outputs": [
    {
     "data": {
      "text/plain": [
       "<bound method DatasetV2.batch of <BatchDataset element_spec=(TensorSpec(shape=(None, 128, 128, 3), dtype=tf.float32, name=None), TensorSpec(shape=(None, 2), dtype=tf.float32, name=None))>>"
      ]
     },
     "execution_count": 4,
     "metadata": {},
     "output_type": "execute_result"
    }
   ],
   "source": [
    "train.batch"
   ]
  },
  {
   "cell_type": "code",
   "execution_count": 5,
   "id": "a24360bb-2f22-4a65-b906-9f57f76452db",
   "metadata": {},
   "outputs": [
    {
     "data": {
      "text/plain": [
       "<bound method DatasetV2.batch of <BatchDataset element_spec=(TensorSpec(shape=(None, 128, 128, 3), dtype=tf.float32, name=None), TensorSpec(shape=(None, 2), dtype=tf.float32, name=None))>>"
      ]
     },
     "execution_count": 5,
     "metadata": {},
     "output_type": "execute_result"
    }
   ],
   "source": [
    "test.batch"
   ]
  },
  {
   "cell_type": "code",
   "execution_count": 6,
   "id": "05c4afe4-e05d-4626-96d8-5078fe02ac84",
   "metadata": {},
   "outputs": [
    {
     "name": "stdout",
     "output_type": "stream",
     "text": [
      "Model: \"sequential\"\n",
      "_________________________________________________________________\n",
      " Layer (type)                Output Shape              Param #   \n",
      "=================================================================\n",
      " flatten (Flatten)           (None, 49152)             0         \n",
      "                                                                 \n",
      " dense (Dense)               (None, 128)               6291584   \n",
      "                                                                 \n",
      " dense_1 (Dense)             (None, 64)                8256      \n",
      "                                                                 \n",
      " dense_2 (Dense)             (None, 32)                2080      \n",
      "                                                                 \n",
      " dense_3 (Dense)             (None, 2)                 66        \n",
      "                                                                 \n",
      "=================================================================\n",
      "Total params: 6,301,986\n",
      "Trainable params: 6,301,986\n",
      "Non-trainable params: 0\n",
      "_________________________________________________________________\n"
     ]
    }
   ],
   "source": [
    "model = keras.Sequential()\n",
    "model.add(Flatten(input_shape = (128,128,3)))\n",
    "model.add(Dense(128, activation='relu'))\n",
    "model.add(Dense(64, activation='relu'))\n",
    "model.add(Dense(32, activation='relu'))\n",
    "model.add(Dense(2, activation='sigmoid'))\n",
    "model.summary()"
   ]
  },
  {
   "cell_type": "code",
   "execution_count": 7,
   "id": "bff254ae-eae4-4621-a474-ff187c727de2",
   "metadata": {},
   "outputs": [],
   "source": [
    "model.compile(loss=\"binary_crossentropy\", optimizer=\"adam\", metrics=\"accuracy\")"
   ]
  },
  {
   "cell_type": "code",
   "execution_count": 8,
   "id": "3633f187-c51f-470b-893a-57c041a1c9c0",
   "metadata": {},
   "outputs": [
    {
     "name": "stdout",
     "output_type": "stream",
     "text": [
      "Epoch 1/10\n",
      "215/215 [==============================] - 10s 43ms/step - loss: 89.2180 - accuracy: 0.7400 - val_loss: 24.5359 - val_accuracy: 0.7925\n",
      "Epoch 2/10\n",
      "215/215 [==============================] - 9s 43ms/step - loss: 22.4581 - accuracy: 0.7906 - val_loss: 13.8527 - val_accuracy: 0.7319\n",
      "Epoch 3/10\n",
      "215/215 [==============================] - 9s 43ms/step - loss: 6.1344 - accuracy: 0.8016 - val_loss: 3.3084 - val_accuracy: 0.8089\n",
      "Epoch 4/10\n",
      "215/215 [==============================] - 9s 41ms/step - loss: 3.3767 - accuracy: 0.7859 - val_loss: 2.8677 - val_accuracy: 0.8135\n",
      "Epoch 5/10\n",
      "215/215 [==============================] - 9s 41ms/step - loss: 4.3481 - accuracy: 0.8028 - val_loss: 3.2516 - val_accuracy: 0.7483\n",
      "Epoch 6/10\n",
      "215/215 [==============================] - 9s 43ms/step - loss: 1.7704 - accuracy: 0.8202 - val_loss: 1.1749 - val_accuracy: 0.8228\n",
      "Epoch 7/10\n",
      "215/215 [==============================] - 9s 43ms/step - loss: 4.1244 - accuracy: 0.7958 - val_loss: 36.9759 - val_accuracy: 0.6434\n",
      "Epoch 8/10\n",
      "215/215 [==============================] - 9s 42ms/step - loss: 10.1071 - accuracy: 0.7976 - val_loss: 3.4932 - val_accuracy: 0.8089\n",
      "Epoch 9/10\n",
      "215/215 [==============================] - 11s 49ms/step - loss: 2.2569 - accuracy: 0.8179 - val_loss: 4.6020 - val_accuracy: 0.7786\n",
      "Epoch 10/10\n",
      "215/215 [==============================] - 9s 41ms/step - loss: 2.6049 - accuracy: 0.7952 - val_loss: 2.4817 - val_accuracy: 0.8555\n"
     ]
    }
   ],
   "source": [
    "history = model.fit(train, validation_data=test ,batch_size=32, epochs=10)"
   ]
  },
  {
   "cell_type": "code",
   "execution_count": 9,
   "id": "dc2d5c06-204a-4032-9125-05de4bde2347",
   "metadata": {},
   "outputs": [
    {
     "name": "stdout",
     "output_type": "stream",
     "text": [
      "54/54 [==============================] - 1s 13ms/step - loss: 2.4817 - accuracy: 0.8555\n",
      "TEST LOSS           :  2.481661081314087\n",
      "TEST ACCURACY       :  0.8554778695106506\n"
     ]
    }
   ],
   "source": [
    "score = model.evaluate(test)\n",
    "print(\"TEST LOSS           : \", score [0])\n",
    "print(\"TEST ACCURACY       : \", score [1])"
   ]
  }
 ],
 "metadata": {
  "kernelspec": {
   "display_name": "Python 3 (ipykernel)",
   "language": "python",
   "name": "python3"
  },
  "language_info": {
   "codemirror_mode": {
    "name": "ipython",
    "version": 3
   },
   "file_extension": ".py",
   "mimetype": "text/x-python",
   "name": "python",
   "nbconvert_exporter": "python",
   "pygments_lexer": "ipython3",
   "version": "3.10.7"
  }
 },
 "nbformat": 4,
 "nbformat_minor": 5
}
